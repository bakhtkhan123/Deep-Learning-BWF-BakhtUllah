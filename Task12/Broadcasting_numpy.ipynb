{
  "nbformat": 4,
  "nbformat_minor": 0,
  "metadata": {
    "colab": {
      "provenance": [],
      "authorship_tag": "ABX9TyMjrtI5veemuw9YZl5Zsu55",
      "include_colab_link": true
    },
    "kernelspec": {
      "name": "python3",
      "display_name": "Python 3"
    },
    "language_info": {
      "name": "python"
    }
  },
  "cells": [
    {
      "cell_type": "markdown",
      "metadata": {
        "id": "view-in-github",
        "colab_type": "text"
      },
      "source": [
        "<a href=\"https://colab.research.google.com/github/bakhtkhan123/Deep-Learning-BWF-BakhtUllah/blob/main/Task12/Broadcasting_numpy.ipynb\" target=\"_parent\"><img src=\"https://colab.research.google.com/assets/colab-badge.svg\" alt=\"Open In Colab\"/></a>"
      ]
    },
    {
      "cell_type": "markdown",
      "source": [
        "# Broadcasting\n",
        "\n"
      ],
      "metadata": {
        "id": "TcLDsImH8hky"
      }
    },
    {
      "cell_type": "code",
      "execution_count": null,
      "metadata": {
        "id": "0lXjISSR8awR"
      },
      "outputs": [],
      "source": [
        "import numpy as np"
      ]
    },
    {
      "cell_type": "code",
      "source": [
        "arr=np.arange(5)\n",
        "x=arr*2\n",
        "print(x)\n",
        "x.shape"
      ],
      "metadata": {
        "colab": {
          "base_uri": "https://localhost:8080/"
        },
        "id": "LOynAiGv-Z0J",
        "outputId": "b1847a6c-2d35-43cc-8e68-9f26e855320c"
      },
      "execution_count": null,
      "outputs": [
        {
          "output_type": "stream",
          "name": "stdout",
          "text": [
            "[0 2 4 6 8]\n"
          ]
        },
        {
          "output_type": "execute_result",
          "data": {
            "text/plain": [
              "(5,)"
            ]
          },
          "metadata": {},
          "execution_count": 19
        }
      ]
    },
    {
      "cell_type": "markdown",
      "source": [
        "### broadcast over axis 0 with 1D array"
      ],
      "metadata": {
        "id": "D2rkvAuwI3_8"
      }
    },
    {
      "cell_type": "code",
      "source": [
        "arr1=np.random.randn(4,3)\n",
        "print(arr1,'\\n')\n",
        "mean=arr1.mean(0)\n",
        "print(mean)\n",
        "print(mean.shape)\n",
        "print(arr1.shape)"
      ],
      "metadata": {
        "colab": {
          "base_uri": "https://localhost:8080/"
        },
        "id": "RxOrsQzr_Se2",
        "outputId": "2f923b5b-9d4a-4218-b5b6-4486d41ddf6f"
      },
      "execution_count": null,
      "outputs": [
        {
          "output_type": "stream",
          "name": "stdout",
          "text": [
            "[[ 0.51031093  0.85271275  0.27160314]\n",
            " [-1.50205252  1.28805798  0.14143944]\n",
            " [ 0.10506771 -0.10008366 -1.39490258]\n",
            " [ 0.31426484 -0.9377405   0.13346281]] \n",
            "\n",
            "[-0.14310226  0.27573664 -0.2120993 ]\n",
            "(3,)\n",
            "(4, 3)\n"
          ]
        }
      ]
    },
    {
      "cell_type": "code",
      "source": [
        "demean= arr1-mean\n",
        "print(demean,'\\n')\n",
        "print(demean.mean(0))\n"
      ],
      "metadata": {
        "colab": {
          "base_uri": "https://localhost:8080/"
        },
        "id": "DvmGWUiNACE3",
        "outputId": "e3e8f2b8-1cf9-413b-ca50-53c17cb524dc"
      },
      "execution_count": null,
      "outputs": [
        {
          "output_type": "stream",
          "name": "stdout",
          "text": [
            "[[ 0.82197026  0.01376313 -0.07646105]\n",
            " [ 0.8070711   0.27477736 -1.0483038 ]\n",
            " [-0.3001473   0.15960774  0.69742089]\n",
            " [-1.32889406 -0.44814822  0.42734396]] \n",
            "\n",
            "[-5.55111512e-17  0.00000000e+00  1.38777878e-17]\n"
          ]
        }
      ]
    },
    {
      "cell_type": "markdown",
      "source": [
        "### broadcasting over axis 1 with 1D array"
      ],
      "metadata": {
        "id": "CxhU4djIJAHZ"
      }
    },
    {
      "cell_type": "code",
      "source": [
        "row_means=arr1.mean(1)\n",
        "print(row_means)\n",
        "print(row_means.shape)\n",
        "print(row_means.reshape(4,1),'\\n')\n",
        "demean=arr-row_means.reshape(4,1)\n",
        "print(demean,'\\n')\n",
        "print(demean.mean(1))"
      ],
      "metadata": {
        "colab": {
          "base_uri": "https://localhost:8080/"
        },
        "id": "EOhjmB4hE4el",
        "outputId": "3c76b154-e603-4cee-8d21-6c50197fd496"
      },
      "execution_count": null,
      "outputs": [
        {
          "output_type": "stream",
          "name": "stdout",
          "text": [
            "[ 0.54487561 -0.02418503 -0.46330618 -0.16333761]\n",
            "(4,)\n",
            "[[ 0.54487561]\n",
            " [-0.02418503]\n",
            " [-0.46330618]\n",
            " [-0.16333761]] \n",
            "\n",
            "[[-0.54487561  0.45512439  1.45512439  2.45512439  3.45512439]\n",
            " [ 0.02418503  1.02418503  2.02418503  3.02418503  4.02418503]\n",
            " [ 0.46330618  1.46330618  2.46330618  3.46330618  4.46330618]\n",
            " [ 0.16333761  1.16333761  2.16333761  3.16333761  4.16333761]] \n",
            "\n",
            "[1.45512439 2.02418503 2.46330618 2.16333761]\n"
          ]
        }
      ]
    },
    {
      "cell_type": "markdown",
      "source": [
        "### broadcasting over other axis"
      ],
      "metadata": {
        "id": "b8zSiwOlLHwv"
      }
    },
    {
      "cell_type": "code",
      "source": [
        "#arr1-arr1.mean(1)\n",
        "arr1-arr1.mean(1).reshape(4,1)"
      ],
      "metadata": {
        "colab": {
          "base_uri": "https://localhost:8080/"
        },
        "id": "AeGl6v70J0DC",
        "outputId": "a148c807-d1c6-462e-9239-a02a2e18b4f3"
      },
      "execution_count": null,
      "outputs": [
        {
          "output_type": "execute_result",
          "data": {
            "text/plain": [
              "array([[-0.03456467,  0.30783714, -0.27327247],\n",
              "       [-1.47786748,  1.31224301,  0.16562447],\n",
              "       [ 0.56837389,  0.36322251, -0.9315964 ],\n",
              "       [ 0.47760246, -0.77440289,  0.29680043]])"
            ]
          },
          "metadata": {},
          "execution_count": 31
        }
      ]
    },
    {
      "cell_type": "code",
      "source": [
        "arr=np.zeros((4,4))\n",
        "print(arr,'\\n')\n",
        "arr_3d=arr[:,np.newaxis,:]\n",
        "print(arr_3d,'\\n')\n",
        "print(arr_3d.shape)\n",
        "\n",
        "arr_1d=np.random.normal(size=4)\n",
        "print(arr_1d,'\\n')\n",
        "print(arr_1d[:,np.newaxis],'\\n')\n",
        "print(arr_1d[np.newaxis,:])"
      ],
      "metadata": {
        "colab": {
          "base_uri": "https://localhost:8080/"
        },
        "id": "dfQljqCHLQWu",
        "outputId": "c69d183d-abad-44dc-b16e-3d9363d73791"
      },
      "execution_count": 43,
      "outputs": [
        {
          "output_type": "stream",
          "name": "stdout",
          "text": [
            "[[0. 0. 0. 0.]\n",
            " [0. 0. 0. 0.]\n",
            " [0. 0. 0. 0.]\n",
            " [0. 0. 0. 0.]] \n",
            "\n",
            "[[[0. 0. 0. 0.]]\n",
            "\n",
            " [[0. 0. 0. 0.]]\n",
            "\n",
            " [[0. 0. 0. 0.]]\n",
            "\n",
            " [[0. 0. 0. 0.]]] \n",
            "\n",
            "(4, 1, 4)\n",
            "[-0.39175313  0.789089    0.41162063 -0.22284879] \n",
            "\n",
            "[[-0.39175313]\n",
            " [ 0.789089  ]\n",
            " [ 0.41162063]\n",
            " [-0.22284879]] \n",
            "\n",
            "[[-0.39175313  0.789089    0.41162063 -0.22284879]]\n"
          ]
        }
      ]
    },
    {
      "cell_type": "markdown",
      "source": [
        "### setting array values by broadcasting"
      ],
      "metadata": {
        "id": "YczOQlGpQcjs"
      }
    },
    {
      "cell_type": "code",
      "source": [
        "arr=np.zeros((4,3))\n",
        "arr[:]=5\n",
        "print(arr)\n",
        "col=np.array([1.22,-0.43,.98,1.76])\n",
        "print('\\n',col)\n",
        "arr[:]=col[:,np.newaxis]\n",
        "print('\\n',arr)"
      ],
      "metadata": {
        "colab": {
          "base_uri": "https://localhost:8080/"
        },
        "id": "OaN-bgS6Qgml",
        "outputId": "a50c70d8-ac19-4f1a-cc77-79d4d1e8a012"
      },
      "execution_count": 52,
      "outputs": [
        {
          "output_type": "stream",
          "name": "stdout",
          "text": [
            "[[5. 5. 5.]\n",
            " [5. 5. 5.]\n",
            " [5. 5. 5.]\n",
            " [5. 5. 5.]]\n",
            "\n",
            " [ 1.22 -0.43  0.98  1.76]\n",
            "\n",
            " [[ 1.22  1.22  1.22]\n",
            " [-0.43 -0.43 -0.43]\n",
            " [ 0.98  0.98  0.98]\n",
            " [ 1.76  1.76  1.76]]\n"
          ]
        }
      ]
    }
  ]
}