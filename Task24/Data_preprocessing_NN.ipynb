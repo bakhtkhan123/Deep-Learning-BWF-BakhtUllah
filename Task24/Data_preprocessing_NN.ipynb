{
  "nbformat": 4,
  "nbformat_minor": 0,
  "metadata": {
    "colab": {
      "provenance": [],
      "authorship_tag": "ABX9TyNkrW0AdMlZ4dTTuQYfaM7P",
      "include_colab_link": true
    },
    "kernelspec": {
      "name": "python3",
      "display_name": "Python 3"
    },
    "language_info": {
      "name": "python"
    }
  },
  "cells": [
    {
      "cell_type": "markdown",
      "metadata": {
        "id": "view-in-github",
        "colab_type": "text"
      },
      "source": [
        "<a href=\"https://colab.research.google.com/github/bakhtkhan123/Deep-Learning-BWF-BakhtUllah/blob/main/Task24/Data_preprocessing_NN.ipynb\" target=\"_parent\"><img src=\"https://colab.research.google.com/assets/colab-badge.svg\" alt=\"Open In Colab\"/></a>"
      ]
    },
    {
      "cell_type": "markdown",
      "source": [
        "## Vectorization"
      ],
      "metadata": {
        "id": "N9Hrb1SX55Yp"
      }
    },
    {
      "cell_type": "markdown",
      "source": [
        "All inputs and output in a neural network must be a tensor of floating point data( or specific cases, tensor of integer)\n",
        "\n",
        "process sound, image and text must first trun into tensors a step called data vectorization.\n",
        "\n",
        "Text represented as list of integers we must use one hot encoding to turn into a tensor of (float32) data.\n"
      ],
      "metadata": {
        "id": "gcaOEkQM6Og6"
      }
    },
    {
      "cell_type": "markdown",
      "source": [
        "## Normalization"
      ],
      "metadata": {
        "id": "qEIWfpgk8Vun"
      }
    },
    {
      "cell_type": "markdown",
      "source": [
        "Normalize each feature Independently to have a mean of 0.\n",
        "\n",
        "Normalize each feature Independently to have a standard deviation of 1.\n",
        "\n",
        "With numpy we can do easily"
      ],
      "metadata": {
        "id": "v7XL7Cdc8YxL"
      }
    },
    {
      "cell_type": "code",
      "execution_count": null,
      "metadata": {
        "id": "e_MdMtAm53_M"
      },
      "outputs": [],
      "source": [
        "# x -= x.mean(axis=0)\n",
        "# x /= x.std(axis=0)"
      ]
    },
    {
      "cell_type": "markdown",
      "source": [
        "## Handling Missing Value"
      ],
      "metadata": {
        "id": "NuJVmIOk89FY"
      }
    },
    {
      "cell_type": "markdown",
      "source": [
        "Generally in neural networks it's safe to imput missing value as 0 with the condition that 0 isn't already a meaningful value.\n",
        "\n",
        "if the network trained on training data having no missing value and the unseen data has missing value then we should artificially generate training sample with missing entries.copy some training samples several times, and drop some of the features that you expect are likely to be missing in the test data."
      ],
      "metadata": {
        "id": "UN8cq3yQ9FhK"
      }
    },
    {
      "cell_type": "markdown",
      "source": [
        "## Feature Engineering"
      ],
      "metadata": {
        "id": "1kN8DTUU_p3b"
      }
    },
    {
      "cell_type": "markdown",
      "source": [
        "Feature engineering can involve many different techniques, such as scaling, normalization, one-hot encoding, and dimensionality reduction. Let's take a look at a few examples of how feature engineering can be used to improve a neural network model.\n",
        "\n",
        "####**Scaling:** \n",
        "This involves scaling the input variables so that they are on the same scale. For example, if you have two input variables, one measured in kilograms and the other measured in millimeters, they may be on different scales which can make it difficult for the model to learn. Scaling the variables to the same range (e.g., 0 to 1) can improve the model's performance.\n",
        "####**One-hot encoding:**\n",
        "This is a technique used for categorical variables, where each category is transformed into a binary variable. For example, if you have a categorical variable like \"color\" with categories \"red\", \"green\", and \"blue\", you could create three binary variables (one for each category) that take on a value of 1 if the original variable is that category, and 0 otherwise. This can help the model to learn patterns in the data more easily. \n",
        "####**Dimensionality reduction:**\n",
        "This involves reducing the number of input variables by combining them into a smaller set of variables. For example, if you have many variables that are highly correlated, you could use principal component analysis (PCA) to create a smaller set of variables that capture the most important information. This can help to reduce the complexity of the model and improve its performance."
      ],
      "metadata": {
        "id": "pixl9kdE_uAT"
      }
    }
  ]
}