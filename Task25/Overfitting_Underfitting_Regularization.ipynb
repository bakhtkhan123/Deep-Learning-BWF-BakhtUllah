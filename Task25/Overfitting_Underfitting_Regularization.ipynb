{
  "nbformat": 4,
  "nbformat_minor": 0,
  "metadata": {
    "colab": {
      "provenance": [],
      "authorship_tag": "ABX9TyPN0vopSZ4TiW1PO4rPBYCe",
      "include_colab_link": true
    },
    "kernelspec": {
      "name": "python3",
      "display_name": "Python 3"
    },
    "language_info": {
      "name": "python"
    }
  },
  "cells": [
    {
      "cell_type": "markdown",
      "metadata": {
        "id": "view-in-github",
        "colab_type": "text"
      },
      "source": [
        "<a href=\"https://colab.research.google.com/github/bakhtkhan123/Deep-Learning-BWF-BakhtUllah/blob/main/Task25/Overfitting_Underfitting_Regularization.ipynb\" target=\"_parent\"><img src=\"https://colab.research.google.com/assets/colab-badge.svg\" alt=\"Open In Colab\"/></a>"
      ]
    },
    {
      "cell_type": "markdown",
      "source": [
        "The fundamental issue in machine learning is the tension between optimization and generalization. Optimization refers to the process of adjusting to get best possible performance on the training data. While generalization refers how well the trained model perform over the data it has never seen before.\n",
        "\n",
        "our goal is to get the good generalization. but we  dont have control over generalization but we only adjust the model based on its training data.\n",
        "\n",
        "At the begining of training, optimization and generalization are correlated. the lower the loss on training data, the lower the loss on test data this is what we called underfitting.\n",
        "\n",
        "After a certain epochs the performace of the model reached to its peak and then begin to degard. this is what we called overfitting. \n",
        "\n",
        "After a certain iteration on training data the model start to learn pattern to the training data but misleading on new data. \n",
        "\n",
        "To solve this we need to increase the training data and train the model but if we have no more training data. In that case we force the model to only focus on the features of more importance. This process of fighting overfitting is regularization. "
      ],
      "metadata": {
        "id": "hadZ66-3kqkl"
      }
    },
    {
      "cell_type": "code",
      "source": [
        "import numpy as np\n",
        "from keras.datasets import imdb\n",
        "(train_data, train_labels), (test_data, test_labels) = imdb.load_data(num_words=10000)\n",
        "def vectorize_sequences(sequences, dimension=10000):\n",
        "    results = np.zeros((len(sequences), dimension))\n",
        "    for i, sequence in enumerate(sequences):\n",
        "        results[i, sequence] = 1.\n",
        "    return results\n",
        "x_train = vectorize_sequences(train_data)\n",
        "x_test = vectorize_sequences(test_data)\n",
        "y_train=np.asarray(train_labels).astype('float32')\n",
        "y_test=np.asarray(test_labels).astype('float32')"
      ],
      "metadata": {
        "id": "aQzG-fjqu5eY"
      },
      "execution_count": 20,
      "outputs": []
    },
    {
      "cell_type": "code",
      "execution_count": 21,
      "metadata": {
        "id": "Fbi3fAtQkaxo"
      },
      "outputs": [],
      "source": [
        "from keras import models\n",
        "from keras import layers\n",
        "from keras import optimizers\n",
        "from keras import metrics\n",
        "from keras import losses"
      ]
    },
    {
      "cell_type": "code",
      "source": [
        "model = models.Sequential()\n",
        "model.add(layers.Dense(4, activation='relu', input_shape=(10000,)))\n",
        "model.add(layers.Dense(4, activation='relu'))\n",
        "model.add(layers.Dense(1, activation='sigmoid'))"
      ],
      "metadata": {
        "id": "kssrwysIt5eA"
      },
      "execution_count": 22,
      "outputs": []
    },
    {
      "cell_type": "code",
      "source": [
        "model.compile(optimizer=optimizers.RMSprop(learning_rate=0.001), loss=losses.binary_crossentropy, metrics=[metrics.binary_accuracy])"
      ],
      "metadata": {
        "id": "jEUhXzYIv7LX"
      },
      "execution_count": 23,
      "outputs": []
    },
    {
      "cell_type": "code",
      "source": [
        "x_val = x_train[:1000]\n",
        "partial_x_train = x_train[1000:]\n",
        "y_val = y_train[:1000]\n",
        "partial_y_train = y_test[1000:]"
      ],
      "metadata": {
        "id": "0-5ZIbiEwRaZ"
      },
      "execution_count": 24,
      "outputs": []
    },
    {
      "cell_type": "code",
      "source": [
        "history = model.fit(partial_x_train, partial_y_train, epochs=20, batch_size=512, validation_data=(x_val, y_val))"
      ],
      "metadata": {
        "colab": {
          "base_uri": "https://localhost:8080/"
        },
        "id": "fXix5IjAwcVZ",
        "outputId": "e2e78947-a70e-4e7f-f849-5c262bd3c0f0"
      },
      "execution_count": 25,
      "outputs": [
        {
          "output_type": "stream",
          "name": "stdout",
          "text": [
            "Epoch 1/20\n",
            "47/47 [==============================] - 3s 47ms/step - loss: 0.6940 - binary_accuracy: 0.5006 - val_loss: 0.6925 - val_binary_accuracy: 0.5120\n",
            "Epoch 2/20\n",
            "47/47 [==============================] - 2s 33ms/step - loss: 0.6843 - binary_accuracy: 0.5576 - val_loss: 0.6955 - val_binary_accuracy: 0.5070\n",
            "Epoch 3/20\n",
            "47/47 [==============================] - 1s 28ms/step - loss: 0.6623 - binary_accuracy: 0.6148 - val_loss: 0.7069 - val_binary_accuracy: 0.4880\n",
            "Epoch 4/20\n",
            "47/47 [==============================] - 1s 28ms/step - loss: 0.6383 - binary_accuracy: 0.6555 - val_loss: 0.7166 - val_binary_accuracy: 0.4930\n",
            "Epoch 5/20\n",
            "47/47 [==============================] - 1s 27ms/step - loss: 0.6160 - binary_accuracy: 0.6808 - val_loss: 0.7251 - val_binary_accuracy: 0.4930\n",
            "Epoch 6/20\n",
            "47/47 [==============================] - 1s 29ms/step - loss: 0.5928 - binary_accuracy: 0.6982 - val_loss: 0.7614 - val_binary_accuracy: 0.4840\n",
            "Epoch 7/20\n",
            "47/47 [==============================] - 1s 27ms/step - loss: 0.5701 - binary_accuracy: 0.7149 - val_loss: 0.7680 - val_binary_accuracy: 0.4930\n",
            "Epoch 8/20\n",
            "47/47 [==============================] - 1s 28ms/step - loss: 0.5464 - binary_accuracy: 0.7343 - val_loss: 0.7859 - val_binary_accuracy: 0.4840\n",
            "Epoch 9/20\n",
            "47/47 [==============================] - 1s 29ms/step - loss: 0.5246 - binary_accuracy: 0.7495 - val_loss: 0.8368 - val_binary_accuracy: 0.4880\n",
            "Epoch 10/20\n",
            "47/47 [==============================] - 3s 64ms/step - loss: 0.5065 - binary_accuracy: 0.7608 - val_loss: 0.8738 - val_binary_accuracy: 0.4950\n",
            "Epoch 11/20\n",
            "47/47 [==============================] - 1s 31ms/step - loss: 0.4854 - binary_accuracy: 0.7765 - val_loss: 0.8619 - val_binary_accuracy: 0.4770\n",
            "Epoch 12/20\n",
            "47/47 [==============================] - 1s 27ms/step - loss: 0.4681 - binary_accuracy: 0.7855 - val_loss: 0.8891 - val_binary_accuracy: 0.4840\n",
            "Epoch 13/20\n",
            "47/47 [==============================] - 1s 27ms/step - loss: 0.4508 - binary_accuracy: 0.7962 - val_loss: 0.9128 - val_binary_accuracy: 0.4880\n",
            "Epoch 14/20\n",
            "47/47 [==============================] - 1s 27ms/step - loss: 0.4357 - binary_accuracy: 0.8068 - val_loss: 0.9486 - val_binary_accuracy: 0.4750\n",
            "Epoch 15/20\n",
            "47/47 [==============================] - 1s 27ms/step - loss: 0.4205 - binary_accuracy: 0.8154 - val_loss: 0.9610 - val_binary_accuracy: 0.4890\n",
            "Epoch 16/20\n",
            "47/47 [==============================] - 1s 28ms/step - loss: 0.4060 - binary_accuracy: 0.8230 - val_loss: 0.9869 - val_binary_accuracy: 0.4840\n",
            "Epoch 17/20\n",
            "47/47 [==============================] - 1s 27ms/step - loss: 0.3916 - binary_accuracy: 0.8339 - val_loss: 1.0322 - val_binary_accuracy: 0.4810\n",
            "Epoch 18/20\n",
            "47/47 [==============================] - 1s 32ms/step - loss: 0.3770 - binary_accuracy: 0.8428 - val_loss: 1.1027 - val_binary_accuracy: 0.4860\n",
            "Epoch 19/20\n",
            "47/47 [==============================] - 2s 40ms/step - loss: 0.3641 - binary_accuracy: 0.8495 - val_loss: 1.0690 - val_binary_accuracy: 0.4780\n",
            "Epoch 20/20\n",
            "47/47 [==============================] - 1s 29ms/step - loss: 0.3519 - binary_accuracy: 0.8537 - val_loss: 1.1976 - val_binary_accuracy: 0.4880\n"
          ]
        }
      ]
    },
    {
      "cell_type": "markdown",
      "source": [
        "Regularization"
      ],
      "metadata": {
        "id": "WcL7wxA_0af8"
      }
    },
    {
      "cell_type": "code",
      "source": [
        "from keras import regularizers\n",
        "model = models.Sequential()\n",
        "model.add(layers.Dense(16, kernel_regularizer=regularizers.l2(0.001),\n",
        "activation='relu', input_shape=(10000,)))\n",
        "model.add(layers.Dense(16, kernel_regularizer=regularizers.l2(0.001),\n",
        "activation='relu'))\n",
        "model.add(layers.Dense(1, activation='sigmoid'))\n"
      ],
      "metadata": {
        "id": "dOJwGXXd0aJW"
      },
      "execution_count": 26,
      "outputs": []
    },
    {
      "cell_type": "code",
      "source": [
        "model.compile(optimizer=optimizers.RMSprop(learning_rate=0.001), loss=losses.binary_crossentropy, metrics=[metrics.binary_accuracy])"
      ],
      "metadata": {
        "id": "n304Y4Ja0vH4"
      },
      "execution_count": 27,
      "outputs": []
    },
    {
      "cell_type": "code",
      "source": [
        "x_val = x_train[:1000]\n",
        "partial_x_train = x_train[1000:]\n",
        "y_val = y_train[:1000]\n",
        "partial_y_train = y_test[1000:]"
      ],
      "metadata": {
        "id": "dN9r3le30yof"
      },
      "execution_count": 28,
      "outputs": []
    },
    {
      "cell_type": "code",
      "source": [
        "history = model.fit(partial_x_train, partial_y_train, epochs=20, batch_size=512, validation_data=(x_val, y_val))"
      ],
      "metadata": {
        "colab": {
          "base_uri": "https://localhost:8080/"
        },
        "id": "BapAg4CM01lL",
        "outputId": "7021bcf1-a5fd-460d-bfb4-7dbbbaad2eec"
      },
      "execution_count": 29,
      "outputs": [
        {
          "output_type": "stream",
          "name": "stdout",
          "text": [
            "Epoch 1/20\n",
            "47/47 [==============================] - 4s 55ms/step - loss: 0.7215 - binary_accuracy: 0.4996 - val_loss: 0.7140 - val_binary_accuracy: 0.5030\n",
            "Epoch 2/20\n",
            "47/47 [==============================] - 2s 34ms/step - loss: 0.7065 - binary_accuracy: 0.5533 - val_loss: 0.7145 - val_binary_accuracy: 0.4780\n",
            "Epoch 3/20\n",
            "47/47 [==============================] - 1s 30ms/step - loss: 0.6891 - binary_accuracy: 0.6149 - val_loss: 0.7247 - val_binary_accuracy: 0.4830\n",
            "Epoch 4/20\n",
            "47/47 [==============================] - 1s 29ms/step - loss: 0.6690 - binary_accuracy: 0.6447 - val_loss: 0.7429 - val_binary_accuracy: 0.4820\n",
            "Epoch 5/20\n",
            "47/47 [==============================] - 1s 29ms/step - loss: 0.6492 - binary_accuracy: 0.6715 - val_loss: 0.7747 - val_binary_accuracy: 0.4730\n",
            "Epoch 6/20\n",
            "47/47 [==============================] - 1s 30ms/step - loss: 0.6286 - binary_accuracy: 0.6967 - val_loss: 0.7893 - val_binary_accuracy: 0.4930\n",
            "Epoch 7/20\n",
            "47/47 [==============================] - 1s 30ms/step - loss: 0.6124 - binary_accuracy: 0.7142 - val_loss: 0.8138 - val_binary_accuracy: 0.4890\n",
            "Epoch 8/20\n",
            "47/47 [==============================] - 1s 30ms/step - loss: 0.5955 - binary_accuracy: 0.7327 - val_loss: 0.8302 - val_binary_accuracy: 0.4940\n",
            "Epoch 9/20\n",
            "47/47 [==============================] - 2s 42ms/step - loss: 0.5805 - binary_accuracy: 0.7518 - val_loss: 0.8607 - val_binary_accuracy: 0.4870\n",
            "Epoch 10/20\n",
            "47/47 [==============================] - 2s 41ms/step - loss: 0.5610 - binary_accuracy: 0.7689 - val_loss: 0.8935 - val_binary_accuracy: 0.4770\n",
            "Epoch 11/20\n",
            "47/47 [==============================] - 1s 30ms/step - loss: 0.5472 - binary_accuracy: 0.7835 - val_loss: 0.9157 - val_binary_accuracy: 0.4760\n",
            "Epoch 12/20\n",
            "47/47 [==============================] - 1s 31ms/step - loss: 0.5312 - binary_accuracy: 0.7967 - val_loss: 0.9416 - val_binary_accuracy: 0.4830\n",
            "Epoch 13/20\n",
            "47/47 [==============================] - 1s 30ms/step - loss: 0.5107 - binary_accuracy: 0.8173 - val_loss: 1.0182 - val_binary_accuracy: 0.4900\n",
            "Epoch 14/20\n",
            "47/47 [==============================] - 1s 30ms/step - loss: 0.5001 - binary_accuracy: 0.8221 - val_loss: 1.0028 - val_binary_accuracy: 0.4710\n",
            "Epoch 15/20\n",
            "47/47 [==============================] - 1s 29ms/step - loss: 0.4814 - binary_accuracy: 0.8415 - val_loss: 1.0566 - val_binary_accuracy: 0.4590\n",
            "Epoch 16/20\n",
            "47/47 [==============================] - 1s 29ms/step - loss: 0.4655 - binary_accuracy: 0.8519 - val_loss: 1.0716 - val_binary_accuracy: 0.4650\n",
            "Epoch 17/20\n",
            "47/47 [==============================] - 2s 32ms/step - loss: 0.4551 - binary_accuracy: 0.8560 - val_loss: 1.0857 - val_binary_accuracy: 0.4750\n",
            "Epoch 18/20\n",
            "47/47 [==============================] - 2s 48ms/step - loss: 0.4347 - binary_accuracy: 0.8722 - val_loss: 1.1148 - val_binary_accuracy: 0.4510\n",
            "Epoch 19/20\n",
            "47/47 [==============================] - 2s 33ms/step - loss: 0.4226 - binary_accuracy: 0.8807 - val_loss: 1.1192 - val_binary_accuracy: 0.4620\n",
            "Epoch 20/20\n",
            "47/47 [==============================] - 1s 29ms/step - loss: 0.4122 - binary_accuracy: 0.8866 - val_loss: 1.1477 - val_binary_accuracy: 0.4610\n"
          ]
        }
      ]
    }
  ]
}