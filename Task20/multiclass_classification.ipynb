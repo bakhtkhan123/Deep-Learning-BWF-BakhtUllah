{
  "nbformat": 4,
  "nbformat_minor": 0,
  "metadata": {
    "colab": {
      "provenance": [],
      "authorship_tag": "ABX9TyNmkjv9yFXXsfrBDay5Q/rM",
      "include_colab_link": true
    },
    "kernelspec": {
      "name": "python3",
      "display_name": "Python 3"
    },
    "language_info": {
      "name": "python"
    },
    "accelerator": "GPU",
    "gpuClass": "standard"
  },
  "cells": [
    {
      "cell_type": "markdown",
      "metadata": {
        "id": "view-in-github",
        "colab_type": "text"
      },
      "source": [
        "<a href=\"https://colab.research.google.com/github/bakhtkhan123/Deep-Learning-BWF-BakhtUllah/blob/main/Task20/multiclass_classification.ipynb\" target=\"_parent\"><img src=\"https://colab.research.google.com/assets/colab-badge.svg\" alt=\"Open In Colab\"/></a>"
      ]
    },
    {
      "cell_type": "code",
      "execution_count": 58,
      "metadata": {
        "id": "EiVfiu1fwfsD"
      },
      "outputs": [],
      "source": [
        "from keras.datasets import reuters\n",
        "(train_data, train_labels), (test_data, test_labels) = reuters.load_data(\n",
        "num_words=10000)"
      ]
    },
    {
      "cell_type": "code",
      "source": [
        "len(train_data)"
      ],
      "metadata": {
        "colab": {
          "base_uri": "https://localhost:8080/"
        },
        "id": "PPVtYnh61pb4",
        "outputId": "3077bed7-7d73-4263-df18-c4ad9c517792"
      },
      "execution_count": 59,
      "outputs": [
        {
          "output_type": "execute_result",
          "data": {
            "text/plain": [
              "8982"
            ]
          },
          "metadata": {},
          "execution_count": 59
        }
      ]
    },
    {
      "cell_type": "code",
      "source": [
        "len(test_data)"
      ],
      "metadata": {
        "colab": {
          "base_uri": "https://localhost:8080/"
        },
        "id": "3dU7kp5r1ro0",
        "outputId": "aca77af9-fc72-4581-fc58-8fd1a5da247b"
      },
      "execution_count": 60,
      "outputs": [
        {
          "output_type": "execute_result",
          "data": {
            "text/plain": [
              "2246"
            ]
          },
          "metadata": {},
          "execution_count": 60
        }
      ]
    },
    {
      "cell_type": "code",
      "source": [
        "train_data[10]"
      ],
      "metadata": {
        "colab": {
          "base_uri": "https://localhost:8080/"
        },
        "id": "qoydW0ZT1yXd",
        "outputId": "33f0ec4d-94a5-4c17-a697-9b416bc8f1c9"
      },
      "execution_count": 61,
      "outputs": [
        {
          "output_type": "execute_result",
          "data": {
            "text/plain": [
              "[1,\n",
              " 245,\n",
              " 273,\n",
              " 207,\n",
              " 156,\n",
              " 53,\n",
              " 74,\n",
              " 160,\n",
              " 26,\n",
              " 14,\n",
              " 46,\n",
              " 296,\n",
              " 26,\n",
              " 39,\n",
              " 74,\n",
              " 2979,\n",
              " 3554,\n",
              " 14,\n",
              " 46,\n",
              " 4689,\n",
              " 4329,\n",
              " 86,\n",
              " 61,\n",
              " 3499,\n",
              " 4795,\n",
              " 14,\n",
              " 61,\n",
              " 451,\n",
              " 4329,\n",
              " 17,\n",
              " 12]"
            ]
          },
          "metadata": {},
          "execution_count": 61
        }
      ]
    },
    {
      "cell_type": "code",
      "source": [
        "word_index = reuters.get_word_index()\n",
        "reverse_word_index = dict([(value, key) for (key, value) in word_index.items()])\n",
        "decoded_newswire = ' '.join([reverse_word_index.get(i - 3, '?') for i in\n",
        "train_data[0]])"
      ],
      "metadata": {
        "id": "2k-oXaVdywJA"
      },
      "execution_count": 62,
      "outputs": []
    },
    {
      "cell_type": "code",
      "source": [
        "decoded_newswire"
      ],
      "metadata": {
        "colab": {
          "base_uri": "https://localhost:8080/",
          "height": 72
        },
        "id": "pBifLPNI0QGv",
        "outputId": "24202264-137e-4a9f-cf63-4c97786055dc"
      },
      "execution_count": 63,
      "outputs": [
        {
          "output_type": "execute_result",
          "data": {
            "text/plain": [
              "'? ? ? said as a result of its december acquisition of space co it expects earnings per share in 1987 of 1 15 to 1 30 dlrs per share up from 70 cts in 1986 the company said pretax net should rise to nine to 10 mln dlrs from six mln dlrs in 1986 and rental operation revenues to 19 to 22 mln dlrs from 12 5 mln dlrs it said cash flow per share this year should be 2 50 to three dlrs reuter 3'"
            ],
            "application/vnd.google.colaboratory.intrinsic+json": {
              "type": "string"
            }
          },
          "metadata": {},
          "execution_count": 63
        }
      ]
    },
    {
      "cell_type": "code",
      "source": [
        "train_labels[10]"
      ],
      "metadata": {
        "colab": {
          "base_uri": "https://localhost:8080/"
        },
        "id": "4Z2kFYWL2F__",
        "outputId": "3d633768-dea0-45f0-d933-aae9df5695c8"
      },
      "execution_count": 64,
      "outputs": [
        {
          "output_type": "execute_result",
          "data": {
            "text/plain": [
              "3"
            ]
          },
          "metadata": {},
          "execution_count": 64
        }
      ]
    },
    {
      "cell_type": "markdown",
      "source": [
        "## Encoding the Integer sequences into a binary matrix"
      ],
      "metadata": {
        "id": "U5W6ohnggR9g"
      }
    },
    {
      "cell_type": "code",
      "source": [
        "import numpy as np\n",
        "def vectorize_sequences(sequences, dimension=10000):\n",
        "    results = np.zeros((len(sequences), dimension))\n",
        "    for i, sequence in enumerate(sequences):\n",
        "        results[i, sequence] = 1.\n",
        "    return results\n",
        "x_train = vectorize_sequences(train_data)\n",
        "x_test = vectorize_sequences(test_data)"
      ],
      "metadata": {
        "id": "SxJ5R6ZoEG1H"
      },
      "execution_count": 65,
      "outputs": []
    },
    {
      "cell_type": "code",
      "source": [
        "def to_one_hot(labels, dimension=46):\n",
        "    results = np.zeros((len(labels), dimension))\n",
        "    for i, label in enumerate(labels):\n",
        "        results[i, label] = 1.\n",
        "    return results\n",
        "one_hot_train_labels = to_one_hot(train_labels)\n",
        "one_hot_test_labels = to_one_hot(test_labels)"
      ],
      "metadata": {
        "id": "dRzxdvXnnd2A"
      },
      "execution_count": 66,
      "outputs": []
    },
    {
      "cell_type": "code",
      "source": [
        "from keras.utils.np_utils import to_categorical\n",
        "one_hot_train_labels = to_categorical(train_labels)\n",
        "one_hot_test_labels = to_categorical(test_labels)"
      ],
      "metadata": {
        "id": "hfak-Lv1nr52"
      },
      "execution_count": 67,
      "outputs": []
    },
    {
      "cell_type": "code",
      "source": [
        "from keras import models\n",
        "from keras import layers\n",
        "model = models.Sequential()\n",
        "model.add(layers.Dense(64, activation='relu', input_shape=(10000,)))\n",
        "model.add(layers.Dense(64, activation='relu'))\n",
        "model.add(layers.Dense(46, activation='softmax'))"
      ],
      "metadata": {
        "id": "2VXZVbYkHEC1"
      },
      "execution_count": 68,
      "outputs": []
    },
    {
      "cell_type": "code",
      "source": [
        "model.compile(optimizer='rmsprop',\n",
        "loss='categorical_crossentropy',\n",
        "metrics=['accuracy'])"
      ],
      "metadata": {
        "id": "7csdv8hrAdy3"
      },
      "execution_count": 69,
      "outputs": []
    },
    {
      "cell_type": "markdown",
      "source": [
        "## Setting Validation Set"
      ],
      "metadata": {
        "id": "lu0POhvhf3Lj"
      }
    },
    {
      "cell_type": "code",
      "source": [
        "x_val = x_train[:1000]\n",
        "partial_x_train = x_train[1000:]\n",
        "y_val = one_hot_train_labels[:1000]\n",
        "partial_y_train = one_hot_train_labels[1000:]"
      ],
      "metadata": {
        "id": "ShOl8U5OBlNh"
      },
      "execution_count": 70,
      "outputs": []
    },
    {
      "cell_type": "code",
      "source": [
        "history = model.fit(partial_x_train,\n",
        "partial_y_train,\n",
        "epochs=20,\n",
        "batch_size=512,\n",
        "validation_data=(x_val, y_val))"
      ],
      "metadata": {
        "colab": {
          "base_uri": "https://localhost:8080/"
        },
        "id": "HMyW3KloHNPk",
        "outputId": "a06fbd8b-1056-46e3-93dd-d190c5cd16ce"
      },
      "execution_count": 71,
      "outputs": [
        {
          "output_type": "stream",
          "name": "stdout",
          "text": [
            "Epoch 1/20\n",
            "16/16 [==============================] - 1s 32ms/step - loss: 2.6685 - accuracy: 0.4996 - val_loss: 1.7978 - val_accuracy: 0.6060\n",
            "Epoch 2/20\n",
            "16/16 [==============================] - 0s 16ms/step - loss: 1.5248 - accuracy: 0.6693 - val_loss: 1.3910 - val_accuracy: 0.6830\n",
            "Epoch 3/20\n",
            "16/16 [==============================] - 0s 19ms/step - loss: 1.2029 - accuracy: 0.7389 - val_loss: 1.2295 - val_accuracy: 0.7200\n",
            "Epoch 4/20\n",
            "16/16 [==============================] - 0s 18ms/step - loss: 0.9923 - accuracy: 0.7866 - val_loss: 1.0995 - val_accuracy: 0.7540\n",
            "Epoch 5/20\n",
            "16/16 [==============================] - 0s 19ms/step - loss: 0.8256 - accuracy: 0.8187 - val_loss: 1.0194 - val_accuracy: 0.7720\n",
            "Epoch 6/20\n",
            "16/16 [==============================] - 0s 18ms/step - loss: 0.6950 - accuracy: 0.8478 - val_loss: 0.9608 - val_accuracy: 0.7940\n",
            "Epoch 7/20\n",
            "16/16 [==============================] - 0s 19ms/step - loss: 0.5755 - accuracy: 0.8765 - val_loss: 0.9118 - val_accuracy: 0.8050\n",
            "Epoch 8/20\n",
            "16/16 [==============================] - 0s 16ms/step - loss: 0.4837 - accuracy: 0.9022 - val_loss: 0.8894 - val_accuracy: 0.8060\n",
            "Epoch 9/20\n",
            "16/16 [==============================] - 0s 17ms/step - loss: 0.4038 - accuracy: 0.9166 - val_loss: 0.8809 - val_accuracy: 0.8110\n",
            "Epoch 10/20\n",
            "16/16 [==============================] - 0s 18ms/step - loss: 0.3438 - accuracy: 0.9275 - val_loss: 0.8722 - val_accuracy: 0.8070\n",
            "Epoch 11/20\n",
            "16/16 [==============================] - 0s 22ms/step - loss: 0.2967 - accuracy: 0.9341 - val_loss: 0.8684 - val_accuracy: 0.8250\n",
            "Epoch 12/20\n",
            "16/16 [==============================] - 0s 22ms/step - loss: 0.2570 - accuracy: 0.9427 - val_loss: 0.8555 - val_accuracy: 0.8180\n",
            "Epoch 13/20\n",
            "16/16 [==============================] - 0s 22ms/step - loss: 0.2248 - accuracy: 0.9455 - val_loss: 0.8868 - val_accuracy: 0.8100\n",
            "Epoch 14/20\n",
            "16/16 [==============================] - 0s 22ms/step - loss: 0.2033 - accuracy: 0.9500 - val_loss: 0.9009 - val_accuracy: 0.8070\n",
            "Epoch 15/20\n",
            "16/16 [==============================] - 0s 20ms/step - loss: 0.1888 - accuracy: 0.9511 - val_loss: 0.8888 - val_accuracy: 0.8040\n",
            "Epoch 16/20\n",
            "16/16 [==============================] - 0s 22ms/step - loss: 0.1680 - accuracy: 0.9526 - val_loss: 0.9070 - val_accuracy: 0.8160\n",
            "Epoch 17/20\n",
            "16/16 [==============================] - 0s 22ms/step - loss: 0.1570 - accuracy: 0.9544 - val_loss: 0.9406 - val_accuracy: 0.7990\n",
            "Epoch 18/20\n",
            "16/16 [==============================] - 0s 19ms/step - loss: 0.1463 - accuracy: 0.9567 - val_loss: 0.9128 - val_accuracy: 0.8150\n",
            "Epoch 19/20\n",
            "16/16 [==============================] - 0s 16ms/step - loss: 0.1415 - accuracy: 0.9568 - val_loss: 0.9412 - val_accuracy: 0.8030\n",
            "Epoch 20/20\n",
            "16/16 [==============================] - 0s 16ms/step - loss: 0.1295 - accuracy: 0.9582 - val_loss: 0.9374 - val_accuracy: 0.8200\n"
          ]
        }
      ]
    },
    {
      "cell_type": "markdown",
      "source": [
        "## Plotting Training and Validation Loss"
      ],
      "metadata": {
        "id": "-X9z4jR2gklw"
      }
    },
    {
      "cell_type": "code",
      "source": [
        "import matplotlib.pyplot as plt\n",
        "loss = history.history['loss']\n",
        "val_loss = history.history['val_loss']\n",
        "epochs = range(1, len(loss) + 1)\n",
        "plt.plot(epochs, loss, 'bo', label='Training loss')\n",
        "plt.plot(epochs, val_loss, 'b', label='Validation loss')\n",
        "plt.title('Training and validation loss')\n",
        "plt.xlabel('Epochs')\n",
        "plt.ylabel('Loss')\n",
        "plt.legend()\n",
        "plt.show()"
      ],
      "metadata": {
        "colab": {
          "base_uri": "https://localhost:8080/",
          "height": 472
        },
        "id": "voOF7D4h3bw9",
        "outputId": "ecefdd58-f8a4-4bd9-dec5-b3b69afa42a2"
      },
      "execution_count": 72,
      "outputs": [
        {
          "output_type": "display_data",
          "data": {
            "text/plain": [
              "<Figure size 640x480 with 1 Axes>"
            ],
            "image/png": "[encoded data removed]"
          },
          "metadata": {}
        }
      ]
    },
    {
      "cell_type": "markdown",
      "source": [
        "## Plotting Traing and Validation Accuracy"
      ],
      "metadata": {
        "id": "n4oVh-6xgb1K"
      }
    },
    {
      "cell_type": "code",
      "source": [
        "plt.clf()\n",
        "acc = history.history['accuracy']\n",
        "val_acc = history.history['val_accuracy']\n",
        "plt.plot(epochs, acc, 'bo', label='Training acc')\n",
        "plt.plot(epochs, val_acc, 'b', label='Validation acc')\n",
        "plt.title('Training and validation accuracy')\n",
        "plt.xlabel('Epochs')\n",
        "plt.ylabel('Loss')\n",
        "plt.legend()\n",
        "plt.show()"
      ],
      "metadata": {
        "colab": {
          "base_uri": "https://localhost:8080/",
          "height": 472
        },
        "id": "Ulb7Ql2UI18A",
        "outputId": "30a3b3eb-d51f-4348-d61d-a30379458df9"
      },
      "execution_count": 75,
      "outputs": [
        {
          "output_type": "display_data",
          "data": {
            "text/plain": [
              "<Figure size 640x480 with 1 Axes>"
            ],
            "image/png": "[encoded data removed]"
          },
          "metadata": {}
        }
      ]
    },
    {
      "cell_type": "markdown",
      "source": [
        "## Retrain from scratch and Evaluate"
      ],
      "metadata": {
        "id": "mmxrSeBUguYU"
      }
    },
    {
      "cell_type": "code",
      "source": [
        "model = models.Sequential()\n",
        "model.add(layers.Dense(64, activation='relu', input_shape=(10000,)))\n",
        "model.add(layers.Dense(64, activation='relu'))\n",
        "model.add(layers.Dense(46, activation='softmax'))\n",
        "model.compile(optimizer='rmsprop',\n",
        "loss='categorical_crossentropy',\n",
        "metrics=['accuracy'])\n",
        "model.fit(partial_x_train,\n",
        "partial_y_train,\n",
        "epochs=9,\n",
        "batch_size=512,\n",
        "validation_data=(x_val, y_val))\n",
        "results = model.evaluate(x_test, one_hot_test_labels)"
      ],
      "metadata": {
        "colab": {
          "base_uri": "https://localhost:8080/"
        },
        "id": "OcAOl16KeqTx",
        "outputId": "7be0537d-2b04-41f7-c690-27eff60257ca"
      },
      "execution_count": 76,
      "outputs": [
        {
          "output_type": "stream",
          "name": "stdout",
          "text": [
            "Epoch 1/9\n",
            "16/16 [==============================] - 1s 34ms/step - loss: 2.7022 - accuracy: 0.4645 - val_loss: 1.8622 - val_accuracy: 0.6110\n",
            "Epoch 2/9\n",
            "16/16 [==============================] - 0s 16ms/step - loss: 1.5838 - accuracy: 0.6694 - val_loss: 1.4145 - val_accuracy: 0.6930\n",
            "Epoch 3/9\n",
            "16/16 [==============================] - 0s 16ms/step - loss: 1.2269 - accuracy: 0.7290 - val_loss: 1.2327 - val_accuracy: 0.7140\n",
            "Epoch 4/9\n",
            "16/16 [==============================] - 0s 16ms/step - loss: 1.0078 - accuracy: 0.7741 - val_loss: 1.1046 - val_accuracy: 0.7530\n",
            "Epoch 5/9\n",
            "16/16 [==============================] - 0s 16ms/step - loss: 0.8452 - accuracy: 0.8115 - val_loss: 1.0383 - val_accuracy: 0.7750\n",
            "Epoch 6/9\n",
            "16/16 [==============================] - 0s 19ms/step - loss: 0.7045 - accuracy: 0.8467 - val_loss: 0.9671 - val_accuracy: 0.7870\n",
            "Epoch 7/9\n",
            "16/16 [==============================] - 0s 16ms/step - loss: 0.5957 - accuracy: 0.8756 - val_loss: 0.9252 - val_accuracy: 0.8030\n",
            "Epoch 8/9\n",
            "16/16 [==============================] - 0s 17ms/step - loss: 0.4957 - accuracy: 0.8969 - val_loss: 0.8904 - val_accuracy: 0.8140\n",
            "Epoch 9/9\n",
            "16/16 [==============================] - 0s 18ms/step - loss: 0.4167 - accuracy: 0.9119 - val_loss: 0.9290 - val_accuracy: 0.8040\n",
            "71/71 [==============================] - 0s 3ms/step - loss: 1.0257 - accuracy: 0.7787\n"
          ]
        }
      ]
    },
    {
      "cell_type": "code",
      "source": [
        "results"
      ],
      "metadata": {
        "colab": {
          "base_uri": "https://localhost:8080/"
        },
        "id": "V5qV0RuNeyoI",
        "outputId": "cadc6bf6-2984-4e5c-cca1-0ac384adabf7"
      },
      "execution_count": 77,
      "outputs": [
        {
          "output_type": "execute_result",
          "data": {
            "text/plain": [
              "[1.0257176160812378, 0.7787176966667175]"
            ]
          },
          "metadata": {},
          "execution_count": 77
        }
      ]
    },
    {
      "cell_type": "markdown",
      "source": [
        "## Making Prediction"
      ],
      "metadata": {
        "id": "CR20d7sDgyye"
      }
    },
    {
      "cell_type": "code",
      "source": [
        "model.predict(x_test)"
      ],
      "metadata": {
        "colab": {
          "base_uri": "https://localhost:8080/"
        },
        "id": "easHpqyte52G",
        "outputId": "5a5a2c54-ee59-4da7-8750-82e829d4ab97"
      },
      "execution_count": 79,
      "outputs": [
        {
          "output_type": "stream",
          "name": "stdout",
          "text": [
            "71/71 [==============================] - 0s 2ms/step\n"
          ]
        },
        {
          "output_type": "execute_result",
          "data": {
            "text/plain": [
              "array([[3.0251224e-05, 4.1247479e-04, 5.7685360e-05, ..., 7.3252377e-06,\n",
              "        1.6265287e-05, 3.4725776e-06],\n",
              "       [2.9808136e-03, 2.0954244e-02, 2.4122382e-02, ..., 5.7748059e-04,\n",
              "        2.8048389e-06, 6.5063691e-04],\n",
              "       [2.7789759e-02, 5.5455625e-01, 2.6460012e-02, ..., 3.7356099e-04,\n",
              "        1.2630702e-04, 2.0583463e-03],\n",
              "       ...,\n",
              "       [9.8097444e-05, 6.5274327e-04, 8.0668295e-05, ..., 9.5311661e-06,\n",
              "        8.2332866e-05, 2.1461618e-05],\n",
              "       [4.3003480e-03, 3.8733855e-02, 8.1499442e-03, ..., 7.9724332e-04,\n",
              "        5.0957163e-04, 9.9003455e-04],\n",
              "       [7.7235359e-03, 1.9765341e-01, 1.5687922e-02, ..., 3.6181379e-04,\n",
              "        1.6413147e-04, 3.7330785e-04]], dtype=float32)"
            ]
          },
          "metadata": {},
          "execution_count": 79
        }
      ]
    }
  ]
}