{
  "nbformat": 4,
  "nbformat_minor": 0,
  "metadata": {
    "colab": {
      "provenance": [],
      "authorship_tag": "ABX9TyPQSFXidK2nXdiw4N2Lk2D/",
      "include_colab_link": true
    },
    "kernelspec": {
      "name": "python3",
      "display_name": "Python 3"
    },
    "language_info": {
      "name": "python"
    }
  },
  "cells": [
    {
      "cell_type": "markdown",
      "metadata": {
        "id": "view-in-github",
        "colab_type": "text"
      },
      "source": [
        "<a href=\"https://colab.research.google.com/github/bakhtkhan123/Deep-Learning-BWF-BakhtUllah/blob/main/Task10/Numpy_array.ipynb\" target=\"_parent\"><img src=\"https://colab.research.google.com/assets/colab-badge.svg\" alt=\"Open In Colab\"/></a>"
      ]
    },
    {
      "cell_type": "markdown",
      "source": [
        "# Creating Numpy array\n",
        "\n"
      ],
      "metadata": {
        "id": "Wlo9YZK1Fwr-"
      }
    },
    {
      "cell_type": "code",
      "source": [
        "import numpy as np"
      ],
      "metadata": {
        "id": "bsHaaecuGfu5"
      },
      "execution_count": 2,
      "outputs": []
    },
    {
      "cell_type": "code",
      "execution_count": 3,
      "metadata": {
        "colab": {
          "base_uri": "https://localhost:8080/"
        },
        "id": "qk3QU-gr8XvH",
        "outputId": "2ea32f6c-a356-4b73-8cfb-53bea2bd098f"
      },
      "outputs": [
        {
          "output_type": "execute_result",
          "data": {
            "text/plain": [
              "array([2, 4, 1, 6, 7])"
            ]
          },
          "metadata": {},
          "execution_count": 3
        }
      ],
      "source": [
        "arr_1d = np.array([2,4,1,6,7])\n",
        "arr_1d"
      ]
    },
    {
      "cell_type": "code",
      "source": [
        "arr_2d=np.array([[3,2,6],[4,6,3]])\n",
        "arr_2d"
      ],
      "metadata": {
        "colab": {
          "base_uri": "https://localhost:8080/"
        },
        "id": "g3uX3rDQGpo-",
        "outputId": "243479b8-ab31-4e45-b63f-ae1898218870"
      },
      "execution_count": 4,
      "outputs": [
        {
          "output_type": "execute_result",
          "data": {
            "text/plain": [
              "array([[3, 2, 6],\n",
              "       [4, 6, 3]])"
            ]
          },
          "metadata": {},
          "execution_count": 4
        }
      ]
    },
    {
      "cell_type": "code",
      "source": [
        "arr_3d=np.array([[[1,2,3],[4,5,6],[7,8,9]]])\n",
        "arr_3d"
      ],
      "metadata": {
        "colab": {
          "base_uri": "https://localhost:8080/"
        },
        "id": "8uMegeD2H8BM",
        "outputId": "639b0980-dc67-4e3f-99f5-7d1789af686f"
      },
      "execution_count": 5,
      "outputs": [
        {
          "output_type": "execute_result",
          "data": {
            "text/plain": [
              "array([[[1, 2, 3],\n",
              "        [4, 5, 6],\n",
              "        [7, 8, 9]]])"
            ]
          },
          "metadata": {},
          "execution_count": 5
        }
      ]
    },
    {
      "cell_type": "markdown",
      "source": [
        "# Checking dimension of the arrays"
      ],
      "metadata": {
        "id": "cxqohAg_Iez_"
      }
    },
    {
      "cell_type": "code",
      "source": [
        "print(arr_1d.ndim)\n",
        "print(arr_2d.ndim)\n",
        "print(arr_3d.ndim)\n"
      ],
      "metadata": {
        "colab": {
          "base_uri": "https://localhost:8080/"
        },
        "id": "sywelv8SIcM7",
        "outputId": "31ff6a99-ced6-4762-ede5-095d4d8b6144"
      },
      "execution_count": 6,
      "outputs": [
        {
          "output_type": "stream",
          "name": "stdout",
          "text": [
            "1\n",
            "2\n",
            "3\n"
          ]
        }
      ]
    },
    {
      "cell_type": "code",
      "source": [
        "arr=np.array([3,2,1,6,7,4,5],ndmin=3) # setting dimension of the array\n",
        "arr"
      ],
      "metadata": {
        "colab": {
          "base_uri": "https://localhost:8080/"
        },
        "id": "L8kk0yPMJdEi",
        "outputId": "4bdae199-58de-4e4d-8575-928359ccd1c1"
      },
      "execution_count": 7,
      "outputs": [
        {
          "output_type": "execute_result",
          "data": {
            "text/plain": [
              "array([[[3, 2, 1, 6, 7, 4, 5]]])"
            ]
          },
          "metadata": {},
          "execution_count": 7
        }
      ]
    },
    {
      "cell_type": "markdown",
      "source": [
        "# Slicing of the *array*\n",
        "\n",
        "\n",
        "\n"
      ],
      "metadata": {
        "id": "_iRdaFMUK7js"
      }
    },
    {
      "cell_type": "code",
      "source": [
        "print(arr_1d[1]) #print first element of the array 1\n",
        "print(arr_1d[-1])#print the last element of the array\n",
        "print(arr_2d[1,-1])#print the last element of the array\n"
      ],
      "metadata": {
        "colab": {
          "base_uri": "https://localhost:8080/"
        },
        "id": "Pgvvc7y4KqfS",
        "outputId": "9eb4b623-9df8-4a6e-d076-d6b06addde12"
      },
      "execution_count": 8,
      "outputs": [
        {
          "output_type": "stream",
          "name": "stdout",
          "text": [
            "4\n",
            "7\n",
            "3\n"
          ]
        }
      ]
    },
    {
      "cell_type": "code",
      "source": [
        "print(arr_1d[1:4])# printing from 2 to 4th value\n",
        "print(arr_1d[1::3]) # jump of three"
      ],
      "metadata": {
        "colab": {
          "base_uri": "https://localhost:8080/"
        },
        "id": "2mpe17JfLU4_",
        "outputId": "d0e2c9d6-c403-4343-fa86-df0d0ab611d3"
      },
      "execution_count": 9,
      "outputs": [
        {
          "output_type": "stream",
          "name": "stdout",
          "text": [
            "[4 1 6]\n",
            "[4 7]\n"
          ]
        }
      ]
    },
    {
      "cell_type": "code",
      "source": [
        "print(arr_1d.shape)\n",
        "print(arr_2d.dtype)\n",
        "print(arr_2d.copy())\n",
        "print(arr_1d.view())\n",
        "print(arr_1d.astype('S'))\n"
      ],
      "metadata": {
        "colab": {
          "base_uri": "https://localhost:8080/"
        },
        "id": "RHrVU-iBQFC8",
        "outputId": "935d7083-77a4-4caf-c163-d8aeb7938b1e"
      },
      "execution_count": 10,
      "outputs": [
        {
          "output_type": "stream",
          "name": "stdout",
          "text": [
            "(5,)\n",
            "int64\n",
            "[[3 2 6]\n",
            " [4 6 3]]\n",
            "[2 4 1 6 7]\n",
            "[b'2' b'4' b'1' b'6' b'7']\n"
          ]
        }
      ]
    },
    {
      "cell_type": "markdown",
      "source": [
        "# perform Arithematic operation on arrays"
      ],
      "metadata": {
        "id": "4Rx3fQ4sUpIn"
      }
    },
    {
      "cell_type": "code",
      "source": [
        "arr1=np.array([2,4,6])\n",
        "arr2=np.array([6,7,8])\n",
        "\n",
        "sum=arr1+arr2\n",
        "sub=arr1-arr_2d\n",
        "mul=arr1*arr2\n",
        "power=arr1**arr2\n",
        "print(f\"sum is = {sum} \\n sub is = {sub} \\n mul is = {mul} \\n and power is ={power}\")"
      ],
      "metadata": {
        "colab": {
          "base_uri": "https://localhost:8080/"
        },
        "id": "ke2m6waCUeaR",
        "outputId": "195821b5-1fe0-4fbf-c8b0-b393dbfcecd6"
      },
      "execution_count": 12,
      "outputs": [
        {
          "output_type": "stream",
          "name": "stdout",
          "text": [
            "sum is = [ 8 11 14] \n",
            " sub is = [[-1  2  0]\n",
            " [-2 -2  3]] \n",
            " mul is = [12 28 48] \n",
            " and power is =[     64   16384 1679616]\n"
          ]
        }
      ]
    },
    {
      "cell_type": "code",
      "source": [
        "mode= arr1%arr2\n",
        "mode"
      ],
      "metadata": {
        "colab": {
          "base_uri": "https://localhost:8080/"
        },
        "id": "F1nWMaWBoK2T",
        "outputId": "59391e2a-d879-41d4-a47f-27712ef58f0e"
      },
      "execution_count": 13,
      "outputs": [
        {
          "output_type": "execute_result",
          "data": {
            "text/plain": [
              "array([2, 4, 6])"
            ]
          },
          "metadata": {},
          "execution_count": 13
        }
      ]
    },
    {
      "cell_type": "code",
      "source": [
        "print(np.add(arr1,arr2))\n",
        "print(np.subtract(arr1,arr2))\n",
        "print(np.multiply(arr1,arr2))\n",
        "print(np.power(arr1,arr2))\n",
        "print(np.divide(arr1,arr2))"
      ],
      "metadata": {
        "colab": {
          "base_uri": "https://localhost:8080/"
        },
        "id": "YqHeEPb5otmw",
        "outputId": "e1ebf7ba-9551-458e-a46c-13dc28e0eef6"
      },
      "execution_count": 18,
      "outputs": [
        {
          "output_type": "stream",
          "name": "stdout",
          "text": [
            "[ 8 11 14]\n",
            "[-4 -3 -2]\n",
            "[12 28 48]\n",
            "[     64   16384 1679616]\n",
            "[0.33333333 0.57142857 0.75      ]\n"
          ]
        }
      ]
    }
  ]
}