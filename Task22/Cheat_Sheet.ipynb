{
  "nbformat": 4,
  "nbformat_minor": 0,
  "metadata": {
    "colab": {
      "provenance": [],
      "authorship_tag": "ABX9TyPowPsWvsmChAwU6sm2tXyV",
      "include_colab_link": true
    },
    "kernelspec": {
      "name": "python3",
      "display_name": "Python 3"
    },
    "language_info": {
      "name": "python"
    }
  },
  "cells": [
    {
      "cell_type": "markdown",
      "metadata": {
        "id": "view-in-github",
        "colab_type": "text"
      },
      "source": [
        "<a href=\"https://colab.research.google.com/github/bakhtkhan123/Deep-Learning-BWF-BakhtUllah/blob/main/Task22/Cheat_Sheet.ipynb\" target=\"_parent\"><img src=\"https://colab.research.google.com/assets/colab-badge.svg\" alt=\"Open In Colab\"/></a>"
      ]
    },
    {
      "cell_type": "markdown",
      "source": [
        "##**Supervised Learning**\n",
        "\n",
        "Supervised learning is a type of machine learning in which the algorithm is trained on a labeled dataset. Labeled data means that the dataset has both input variables (features) and their corresponding output variables (target variables). The algorithm learns to map the input variables to the output variables. For example, in a spam filter, the algorithm is trained on a labeled dataset of emails labeled as spam or not spam. The algorithm learns the features that distinguish spam emails from non-spam emails and then predicts whether a new email is spam or not based on those learned features.\n",
        "\n",
        "##**Example:**\n",
        "\n",
        "**Supervised Learning:** \n",
        "\n",
        "Consider a dataset of housing prices in a city, where the input variables are features of the houses such as the number of bedrooms, bathrooms, square footage, and location, and the output variable is the price of the house. An algorithm can be trained on this labeled dataset using supervised learning techniques to predict the price of a house given its features.\n",
        "\n"
      ],
      "metadata": {
        "id": "lytHVcjSo72Z"
      }
    },
    {
      "cell_type": "markdown",
      "source": [
        "##**Unsupervised Learning:**\n",
        "\n",
        "Unsupervised learning is a type of machine learning in which the algorithm is trained on an unlabeled dataset. In unsupervised learning, the algorithm learns to find patterns or structure in the data without any prior knowledge of the output variables. For example, in a customer segmentation task, the algorithm is given a dataset of customer characteristics, such as age, income, and spending habits, and it is asked to group the customers into different segments based on similarities in their characteristics. The algorithm learns to identify patterns in the data and groups the customers based on those patterns.\n",
        "\n",
        "##**Example:**\n",
        "\n",
        "\n",
        "**Unsupervised Learning:**\n",
        "\n",
        "Consider a dataset of customer purchases at a grocery store, where the input variables are the items purchased and the output variable is not given. An algorithm can be trained on this unlabeled dataset using unsupervised learning techniques to identify patterns in customer purchases, such as customers who purchase milk and bread together or customers who purchase beer and chips together. This information can be used to target promotions and improve the store's sales."
      ],
      "metadata": {
        "id": "KRQuqMDwq9fY"
      }
    },
    {
      "cell_type": "markdown",
      "source": [
        "##**Self-Supervised Learning:**\n",
        "Self-supervised learning is a type of machine learning in which the algorithm is trained on an unlabeled dataset by defining a proxy task that requires the model to predict certain features of the data. The model then learns to predict those features, which can be used to perform downstream tasks. For example, in image recognition, an algorithm can be trained on an unlabeled dataset by requiring it to predict the missing pixels of an image given its surrounding pixels. The model learns to recognize patterns in the images and can then be used for downstream tasks like object detection. \n",
        "\n",
        "##**Example:**\n",
        "**Self-Supervised Learning:**\n",
        "\n",
        "Consider a dataset of audio recordings, where the algorithm is required to predict the next audio sample given the previous samples. This proxy task can be used to train a model to recognize speech or identify musical genres. \n"
      ],
      "metadata": {
        "id": "9g26uOb1rC5B"
      }
    },
    {
      "cell_type": "markdown",
      "source": [
        "##**Reinforcement Learning:**\n",
        "Reinforcement learning is a type of machine learning in which an agent learns to take actions in an environment to maximize a reward signal. The agent receives feedback in the form of a reward or penalty based on its actions and adjusts its behavior to maximize the expected reward. For example, in a game of chess, the agent takes actions (moves) based on the current board state and receives a reward (win/loss/draw) at the end of the game. The agent learns to make better moves by maximizing the reward signal. \n",
        "\n",
        "##**Example:**\n",
        "\n",
        "**Reinforcement Learning:**\n",
        "\n",
        "Consider a self-driving car navigating through traffic. The car is the agent, and the environment is the road. The car takes actions such as accelerating, braking, and turning, and receives a reward signal based on its actions, such as reaching the destination quickly, avoiding collisions, and following traffic rules. The car learns to navigate the environment by maximizing the expected reward.\n"
      ],
      "metadata": {
        "id": "lcn46BiJsgLo"
      }
    }
  ]
}